{
 "cells": [
  {
   "cell_type": "code",
   "execution_count": 1,
   "metadata": {},
   "outputs": [],
   "source": [
    "from inference import predict, predict_batch, draw_random_masks\n",
    "from torchvision.models.detection import maskrcnn_resnet50_fpn\n",
    "import matplotlib.pyplot as plt\n",
    "from PIL import Image\n",
    "import torch"
   ]
  },
  {
   "cell_type": "code",
   "execution_count": null,
   "metadata": {},
   "outputs": [],
   "source": [
    "image_path = '../test_data/114_jpg.rf.361d88c974579f58bf2d4db19e0618bd.jpg'\n",
    "image = Image.open(image_path).convert(\"RGB\")\n",
    "device = torch.device(\"cuda:9\") if torch.cuda.is_available() else torch.device(\"cpu\")\n",
    "\n",
    "model = maskrcnn_resnet50_fpn(\n",
    "    num_classes=2,\n",
    "    pretrained=False,\n",
    ")\n",
    "\n",
    "# Загрузка весов из файла .pt или .bin\n",
    "model.load_state_dict(torch.load(\"../weights/model_weights_39.pt\"))\n",
    "model.to(device)\n",
    "pred_boxes, pred_scores, pred_masks, pred_labels = predict(image_path=image_path, model=model, device=device)\n",
    "visual = draw_random_masks(image=image, masks=pred_masks, scores=pred_scores)\n",
    "plt.imshow(visual)"
   ]
  }
 ],
 "metadata": {
  "kernelspec": {
   "display_name": "venv",
   "language": "python",
   "name": "python3"
  },
  "language_info": {
   "codemirror_mode": {
    "name": "ipython",
    "version": 3
   },
   "file_extension": ".py",
   "mimetype": "text/x-python",
   "name": "python",
   "nbconvert_exporter": "python",
   "pygments_lexer": "ipython3",
   "version": "3.10.12"
  }
 },
 "nbformat": 4,
 "nbformat_minor": 2
}
